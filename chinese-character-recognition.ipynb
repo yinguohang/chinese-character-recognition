{
 "cells": [
  {
   "cell_type": "code",
   "execution_count": 87,
   "metadata": {},
   "outputs": [],
   "source": [
    "from PIL import Image\n",
    "import numpy as np\n",
    "import os\n",
    "\n",
    "# 待优化，在read_character中加循环，如果发现不是需要store的就直接跳过，不需要再read image了\n",
    "\n",
    "def read_character(f):\n",
    "    sample_size = int.from_bytes(f.read(4), byteorder = 'little')\n",
    "    if sample_size == 0:\n",
    "        return None, None, None, None\n",
    "    # tag_code = int.from_bytes(f.read(2), byteorder = 'little')\n",
    "    # int.to_bytes(tag_code, length = 2, byteorder = \"little\").decode(\"GBK\")\n",
    "    character = f.read(2).decode(\"GBK\")\n",
    "    width = int.from_bytes(f.read(2), byteorder = 'little')\n",
    "    height = int.from_bytes(f.read(2), byteorder = 'little')\n",
    "    image = [[0 for _ in range(width)] for _ in range(height)]\n",
    "    for i in range(height):\n",
    "        for j in range(width):\n",
    "            image[i][j] = int.from_bytes(f.read(1), byteorder = 'little')\n",
    "    return character, height, width, image\n",
    "def store_image(character, height, width, image_arr):\n",
    "    image_dir = \"images/\"\n",
    "    image = Image.fromarray(np.array(image_arr, dtype=np.uint8))\n",
    "    image.save(\"%s%s_%d_%d.png\" % (image_dir, character, height, width))\n",
    "characters = set([\"金\", \"木\", \"水\", \"火\", \"土\"])\n",
    "def is_stored(character):\n",
    "    return character in characters\n",
    "def read_gnt_file(filename):\n",
    "    f = open(filename, \"rb\")\n",
    "    while True:\n",
    "        character, height, width, image = read_character(f)\n",
    "        if character == None:\n",
    "            break\n",
    "        if is_stored(character):\n",
    "            store_image(character, height, width, image)\n",
    "        # print(character)\n",
    "    return image\n",
    "def get_original_image(gnt_dir):\n",
    "    for filename in os.listdir(gnt_dir):\n",
    "        print(\"Processing %s ...\" % filename)\n",
    "        read_gnt_file(os.path.join(gnt_dir, filename))"
   ]
  },
  {
   "cell_type": "code",
   "execution_count": 85,
   "metadata": {},
   "outputs": [],
   "source": [
    "get_original_image(\"HWDB1.1trn_gnt\")"
   ]
  },
  {
   "cell_type": "code",
   "execution_count": 45,
   "metadata": {},
   "outputs": [],
   "source": [
    "temp = Image.fromarray(np.array(image, dtype=np.uint8))"
   ]
  },
  {
   "cell_type": "code",
   "execution_count": 112,
   "metadata": {},
   "outputs": [],
   "source": [
    "class LabelToNumber:\n",
    "    def __init__(self):\n",
    "        self.mapping = {}\n",
    "        self.labels = []\n",
    "    def encode(self, label):\n",
    "        if label not in self.mapping:\n",
    "            self.labels.append(label)\n",
    "            self.mapping[label] = len(self.labels) - 1\n",
    "            return len(self.labels) - 1\n",
    "        else:\n",
    "            return self.mapping[label]\n",
    "    def save(self, filename):\n",
    "        f = open(filename, \"w\")\n",
    "        for label in self.labels:\n",
    "            f.write(\"%s\\n\" % label)\n",
    "# Since the dataset is small, we put all data in one single file\n",
    "def generate_dataset(image_dir):\n",
    "    images = []\n",
    "    labels = []\n",
    "    converter = LabelToNumber()\n",
    "    for filename in os.listdir(image_dir):\n",
    "        if filename.startswith(\".\"):\n",
    "            continue\n",
    "        resized_image = Image.open(os.path.join(image_dir, filename)).convert('L').resize((64, 64), Image.ANTIALIAS)\n",
    "        image_vec = np.asarray(resized_image) / 255.0\n",
    "        label = converter.encode(filename.split(\"_\")[0])\n",
    "        images.append(image_vec)\n",
    "        labels.append(label)\n",
    "    converter.save(\"characters.txt\")\n",
    "    return np.array(images).reshape([-1, 64, 64, 1]), np.array(labels)"
   ]
  },
  {
   "cell_type": "code",
   "execution_count": 113,
   "metadata": {},
   "outputs": [],
   "source": [
    "X, y = generate_dataset(\"images\")"
   ]
  },
  {
   "cell_type": "code",
   "execution_count": 114,
   "metadata": {},
   "outputs": [],
   "source": [
    "np.savez(\"input_data\", X=X, y=y)"
   ]
  },
  {
   "cell_type": "code",
   "execution_count": 115,
   "metadata": {},
   "outputs": [],
   "source": [
    "temp_image = Image.open(\"test.png\")"
   ]
  },
  {
   "cell_type": "code",
   "execution_count": 121,
   "metadata": {},
   "outputs": [
    {
     "data": {
      "image/png": "[encoded data removed]",
      "text/plain": [
       "<PIL.Image.Image image mode=L size=200x200 at 0x11CA0D8D0>"
      ]
     },
     "execution_count": 121,
     "metadata": {},
     "output_type": "execute_result"
    }
   ],
   "source": [
    "temp_image.convert('LA')"
   ]
  },
  {
   "cell_type": "code",
   "execution_count": null,
   "metadata": {},
   "outputs": [],
   "source": []
  }
 ],
 "metadata": {
  "kernelspec": {
   "display_name": "Python 3",
   "language": "python",
   "name": "python3"
  },
  "language_info": {
   "codemirror_mode": {
    "name": "ipython",
    "version": 3
   },
   "file_extension": ".py",
   "mimetype": "text/x-python",
   "name": "python",
   "nbconvert_exporter": "python",
   "pygments_lexer": "ipython3",
   "version": "3.6.6"
  }
 },
 "nbformat": 4,
 "nbformat_minor": 2
}
